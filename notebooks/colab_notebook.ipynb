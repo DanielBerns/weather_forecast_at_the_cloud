{
  "nbformat": 4,
  "nbformat_minor": 0,
  "metadata": {
    "colab": {
      "provenance": []
    },
    "kernelspec": {
      "name": "python3",
      "display_name": "Python 3"
    },
    "language_info": {
      "name": "python"
    }
  },
  "cells": [
    {
      "cell_type": "code",
      "execution_count": null,
      "metadata": {
        "id": "Uae6U5ef8cqc"
      },
      "outputs": [],
      "source": [
        "#\n",
        "# --- 1. Installation and Setup ---\n",
        "#\n",
        "!pip install gdown\n",
        "!pip install pyyaml"
      ]
    },
    {
      "cell_type": "code",
      "source": [
        "# Clone your git repository or upload the files\n",
        "# For example, if your code is on GitHub (in a public repo)\n",
        "# !git clone https://github.com/your-username/weather_forecast.git\n",
        "# %cd weather_forecast\n",
        "\n",
        "# Install the package\n",
        "!pip install ."
      ],
      "metadata": {
        "id": "CYJjJWel8z_t"
      },
      "execution_count": null,
      "outputs": []
    },
    {
      "cell_type": "code",
      "source": [
        "#\n",
        "# --- Import some libraries needed for the Configuration step ---\n",
        "#\n",
        "from google.colab import drive\n",
        "drive.mount('/content/drive')\n",
        "\n",
        "import yaml\n",
        "from pathlib import Path"
      ],
      "metadata": {
        "id": "W27O2SA89GPx"
      },
      "execution_count": null,
      "outputs": []
    },
    {
      "cell_type": "code",
      "source": [
        "#\n",
        "# --- 2. Configuration ---\n",
        "#\n",
        "config_path = \"config.yaml\"\n",
        "\n",
        "with open(config_path, \"r\") as f:\n",
        "    config = yaml.safe_load(f)\n",
        "\n",
        "# Update paths for Google Drive\n",
        "gdrive_path = Path(config['gdrive_path'])\n",
        "config['data_path'] = str(gdrive_path / 'data')\n",
        "config['models_path'] = str(gdrive_path / 'saved_models')\n",
        "\n",
        "# Create directories on Google Drive if they don't exist\n",
        "Path(config['data_path']).mkdir(parents=True, exist_ok=True)\n",
        "Path(config['models_path']).mkdir(parents=True, exist_ok=True)\n",
        "\n",
        "with open(config_path, \"w\") as f:\n",
        "    yaml.dump(config, f)"
      ],
      "metadata": {
        "id": "A_IxHP5t9PEr"
      },
      "execution_count": null,
      "outputs": []
    },
    {
      "cell_type": "code",
      "source": [
        "#\n",
        "# --- 3. Run Training ---\n",
        "#\n",
        "!weather-forecast-train\n"
      ],
      "metadata": {
        "id": "YfIO9fm_-jxh"
      },
      "execution_count": null,
      "outputs": []
    },
    {
      "cell_type": "code",
      "source": [
        "#\n",
        "# --- 4. Visualize Predictions ---\n",
        "#\n",
        "from weather_forecast.train import models\n",
        "from weather_forecast.utils.window_generator import WindowGenerator\n",
        "import pandas as pd\n",
        "import numpy as np\n",
        "import matplotlib.pyplot as plt\n",
        "\n",
        "# Load the trained model\n",
        "model_class = models.get(config['model_name'])\n",
        "model = model_class.load(config['models_path'])\n",
        "\n",
        "# Load and prepare data for prediction\n",
        "file_list = list(Path(config['data_path']).glob(\"*.csv\"))\n",
        "raw_df = data_handler.load_data(file_list)\n",
        "cleaned_df = data_handler.clean_data(raw_df.copy())\n",
        "station_df = cleaned_df[cleaned_df['station_id'] == 'station_1'].copy()\n",
        "station_df.drop('station_id', axis=1, inplace=True)\n",
        "test_df = station_df[int(len(station_df) * 0.9):]\n",
        "test_mean = test_df.mean()\n",
        "test_std = test_df.std()\n",
        "test_df = (test_df - test_mean) / test_std\n",
        "num_features = station_df.shape[1]\n",
        "\n",
        "# Create a window generator for the test data\n",
        "test_window = WindowGenerator(\n",
        "    input_width=config['input_width'],\n",
        "    label_width=config['out_steps'],\n",
        "    shift=config['out_steps'],\n",
        "    train_df=pd.DataFrame(), # Not needed for prediction\n",
        "    val_df=pd.DataFrame(),   # Not needed for prediction\n",
        "    test_df=test_df,\n",
        "    label_columns=[config['label_column']]\n",
        ")\n",
        "\n",
        "# Plot predictions\n",
        "test_window.plot(model.model)\n"
      ],
      "metadata": {
        "id": "ulVxR14g-wwv"
      },
      "execution_count": null,
      "outputs": []
    }
  ]
}